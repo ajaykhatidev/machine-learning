{
 "cells": [
  {
   "cell_type": "markdown",
   "id": "95b0694e",
   "metadata": {},
   "source": [
    "above operation only to add the somevalr"
   ]
  },
  {
   "cell_type": "code",
   "execution_count": 3,
   "id": "4938430f",
   "metadata": {},
   "outputs": [],
   "source": [
    "import pandas as pd\n",
    "from faker import Faker\n",
    "\n",
    "# Initialize faker\n",
    "fake = Faker()\n",
    "\n",
    "# Generate the data\n",
    "data = []\n",
    "for _ in range(200):\n",
    "    name = fake.name()\n",
    "    dob = fake.date_of_birth(minimum_age=18, maximum_age=80)\n",
    "    age = pd.Timestamp('now').year - dob.year\n",
    "    data.append({\"Name\": name, \"Age\": age, \"Date of Birth\": dob.strftime(\"%Y-%m-%d\")})\n",
    "\n",
    "# Create DataFrame\n",
    "df = pd.DataFrame(data)\n",
    "\n",
    "# Show top 10 rows\n",
    "df.to_csv(\"people_data.csv\", index=False)\n"
   ]
  },
  {
   "cell_type": "markdown",
   "id": "d369d06b",
   "metadata": {},
   "source": [
    "to create a ramdom data \n"
   ]
  },
  {
   "cell_type": "code",
   "execution_count": 16,
   "id": "046f7aa2",
   "metadata": {},
   "outputs": [
    {
     "name": "stdout",
     "output_type": "stream",
     "text": [
      "Index(['Name', 'Age', 'Date of Birth', 'Salary'], dtype='object')\n",
      "0      Ajay\n",
      "1      oggy\n",
      "2    nobita\n",
      "Name: Name, dtype: object\n",
      "     Name  Age Date of Birth   Salary\n",
      "0    Ajay   25    1998-01-01  50000.0\n",
      "1    oggy   30    1993-02-02  60000.0\n",
      "2  nobita   35    1988-03-03  70000.0\n",
      "3    Ajay   25    1998-01-01      NaN\n",
      "4    oggy   30    1993-02-02      NaN\n",
      "5  nobita   35    1988-03-03      NaN\n"
     ]
    }
   ],
   "source": [
    "df = pd.read_csv(\"people_data.csv\")\n",
    "print(df.columns)\n",
    "print(df[\"Name\"])\n",
    "\n",
    "df2 = pd.DataFrame({\n",
    "    \"Name\": [\"Ajay\", \"oggy\", \"nobita\"],\n",
    "    \"Age\": [25, 30, 35],\n",
    "    \"Date of Birth\": [\"1998-01-01\", \"1993-02-02\", \"1988-03-03\"]\n",
    "})\n",
    "\n",
    "all = pd.concat([df, df2], ignore_index=True)\n",
    "print(all)\n",
    "\n",
    "\n",
    "merge = pd.DataFrame({\n",
    "    \"Name\": [\"Ajay\", \"oggy\", \"nobita\"],\n",
    "    \"Salary\": [50000, 60000, 70000]\n",
    "})\n",
    "\n",
    "final = pd.merge(all,merge)\n",
    "\n",
    "final.to_csv(\"new.csv\", index=False)\n",
    "\n",
    "\n"
   ]
  }
 ],
 "metadata": {
  "kernelspec": {
   "display_name": "venv",
   "language": "python",
   "name": "python3"
  },
  "language_info": {
   "codemirror_mode": {
    "name": "ipython",
    "version": 3
   },
   "file_extension": ".py",
   "mimetype": "text/x-python",
   "name": "python",
   "nbconvert_exporter": "python",
   "pygments_lexer": "ipython3",
   "version": "3.13.7"
  }
 },
 "nbformat": 4,
 "nbformat_minor": 5
}
